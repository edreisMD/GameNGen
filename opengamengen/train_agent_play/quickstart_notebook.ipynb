{
 "cells": [
  {
   "cell_type": "markdown",
   "metadata": {},
   "source": [
    "# Reinforcement Learning with Doom - Basic scenario\n",
    "\n",
    "Leandro Kieliger\n",
    "contact@lkieliger.ch\n",
    "\n",
    "---\n",
    "## Description\n",
    "\n",
    "In this notebook we are going to set up our reinforcement learning environment with VizDoom and stable-baselines. This notebook has a corresponding [Medium article](https://lkieliger.medium.com/deep-reinforcement-learning-in-practice-by-playing-doom-part-1-getting-started-618c99075c77) which provides a high-level description.\n",
    "\n",
    "The first scenario that we will try to solve is called \"basic\". In this scenario, the player is located in a square room, facing an ennemy. Only three actions are available: shoot, move left or move right. At the beginning of each episode, the ennemy will be located at a random location along the opposite wall of the room. The ennemy is immobile and passive. The goal of the scenario is to shoot the ennemy as fast as possible. For every time step we receive a reward of -1, missing a shot rewards -5 and successfully shooting the ennemy provides a reward of 101. The scenario can last at most 300 steps after which it is automatically restarted. \n",
    "\n",
    "\n",
    "# Code\n",
    "## Preparations"
   ]
  },
  {
   "cell_type": "code",
   "execution_count": 1,
   "metadata": {},
   "outputs": [],
   "source": [
    "import cv2\n",
    "import matplotlib.pyplot as plt\n",
    "import numpy as np\n",
    "import vizdoom\n",
    "from stable_baselines3 import ppo\n",
    "from stable_baselines3.common import callbacks\n",
    "from stable_baselines3.common import evaluation\n",
    "from stable_baselines3.common import policies"
   ]
  },
  {
   "cell_type": "markdown",
   "metadata": {},
   "source": [
    "### Testing VizDoom\n",
    "\n",
    "After running the code below a window should pop up displaying a Doom game. If you see a window with a simple 3D model of a doom game, everything is working!"
   ]
  },
  {
   "cell_type": "code",
   "execution_count": 2,
   "metadata": {},
   "outputs": [],
   "source": [
    "# import random\n",
    "\n",
    "# import vizdoom\n",
    "\n",
    "# if __name__ == '__main__':\n",
    "    \n",
    "#     # Instantiate a VizDoom game instance.\n",
    "#     game = vizdoom.DoomGame()\n",
    "#     game.load_config('scenarios/basic.cfg')\n",
    "#     game.init()\n",
    "\n",
    "#     # Define possible actions. Each number represents the state of a button (1=active).\n",
    "#     sample_actions = [\n",
    "#         [1, 0, 0],  # Move left\n",
    "#         [0, 1, 0],  # Move right\n",
    "#         [0, 0, 1],  # Attack\n",
    "#     ]\n",
    "\n",
    "#     n_episodes = 10\n",
    "#     current_episode = 0\n",
    "    \n",
    "#     while current_episode < n_episodes:\n",
    "#         game.make_action(random.choice(sample_actions))\n",
    "\n",
    "#         if game.is_episode_finished():\n",
    "#             current_episode += 1\n",
    "#             game.new_episode()\n",
    "\n",
    "#     game.close()"
   ]
  },
  {
   "cell_type": "markdown",
   "metadata": {},
   "source": [
    "To perform the learning task, we will need two components: the agent and the environment. Thanks to stable-baselines, building an agent will be very straightforward. The environment though requires some explanation. In the medium article we explain how to build the Gym environment wrapper for a VizDoom game instance."
   ]
  },
  {
   "cell_type": "code",
   "execution_count": 3,
   "metadata": {},
   "outputs": [],
   "source": [
    "import gym\n",
    "from gym import spaces\n",
    "import vizdoom\n",
    "import numpy as np\n",
    "\n",
    "class DoomEnv(gym.Env):\n",
    "    def __init__(self, config_file, frame_skip=4, frame_processor=None):\n",
    "        super(DoomEnv, self).__init__()\n",
    "        self.game = vizdoom.DoomGame()\n",
    "        self.game.load_config(config_file)\n",
    "        self.game.init()\n",
    "        self.frame_skip = frame_skip\n",
    "        self.frame_processor = frame_processor\n",
    "\n",
    "        # Define action and observation space\n",
    "        self.action_space = spaces.Discrete(3)  # 3 possible actions: left, right, shoot\n",
    "        initial_frame = self._get_state()\n",
    "        self.observation_space = spaces.Box(low=0, high=255, shape=(initial_frame.shape[0], initial_frame.shape[1], initial_frame.shape[2]), dtype=np.uint8)\n",
    "\n",
    "    def step(self, action):\n",
    "        reward = 0\n",
    "        for _ in range(self.frame_skip):\n",
    "            reward += self.game.make_action(self._action_to_vizdoom(action))\n",
    "            if self.game.is_episode_finished():\n",
    "                break\n",
    "        state = self._get_state()\n",
    "        done = self.game.is_episode_finished()\n",
    "        return state, reward, done, {}\n",
    "\n",
    "    def reset(self):\n",
    "        self.game.new_episode()\n",
    "        return self._get_state()\n",
    "\n",
    "    def _get_state(self):\n",
    "        state = self.game.get_state()\n",
    "        if state is None:\n",
    "            # Return a default frame if the state is None\n",
    "            return np.zeros((240, 320, 3), dtype=np.uint8)\n",
    "        frame = state.screen_buffer\n",
    "        if self.frame_processor:\n",
    "            frame = self.frame_processor(frame)\n",
    "        return frame\n",
    "\n",
    "    def _action_to_vizdoom(self, action):\n",
    "        return [1 if i == action else 0 for i in range(3)]\n",
    "\n",
    "    def close(self):\n",
    "        self.game.close()\n",
    "\n",
    "    def seed(self, seed=None):\n",
    "        self.game.set_seed(seed)\n",
    "\n",
    "def create_env(config_file='scenarios/basic.cfg', **kwargs):\n",
    "    return DoomEnv(config_file, **kwargs)"
   ]
  },
  {
   "cell_type": "code",
   "execution_count": 4,
   "metadata": {},
   "outputs": [],
   "source": [
    "# from the medium article\n",
    "\n",
    "# def create_env(scenario: str, **kwargs) -> DoomEnv:\n",
    "#     # Create a VizDoom instance.\n",
    "#     game = vizdoom.DoomGame()\n",
    "#     game.load_config(f'scenarios/{scenario}.cfg')\n",
    "#     game.init()\n",
    "\n",
    "#     # Wrap the game with the Gym adapter.\n",
    "#     return DoomEnv(game, **kwargs)\n",
    "\n",
    "\n",
    "# def create_vec_env(**kwargs) -> vec_env.VecTransposeImage:\n",
    "#     return vec_env.VecTransposeImage(vec_env.DummyVecEnv([lambda: create_env(**kwargs)]))\n",
    "   "
   ]
  },
  {
   "cell_type": "code",
   "execution_count": 5,
   "metadata": {},
   "outputs": [],
   "source": [
    "# from common import envs\n",
    "\n",
    "# def create_env(**kwargs) -> envs.DoomEnv:\n",
    "#     # Create a VizDoom instance.\n",
    "#     game = vizdoom.DoomGame()\n",
    "#     game.load_config('scenarios/basic.cfg')\n",
    "#     game.init()\n",
    "\n",
    "#     # Wrap the environment with the Gym adapter.\n",
    "#     return envs.DoomEnv(game, **kwargs)"
   ]
  },
  {
   "cell_type": "markdown",
   "metadata": {},
   "source": []
  },
  {
   "cell_type": "markdown",
   "metadata": {},
   "source": [
    "There is one additional step required to make it work with stable-baselines. The good new is that this small additional step will unlock very cools features for the learning task.\n",
    "\n",
    "What we need to set up is a vectorized environment. Stable-baselines' [doc](https://stable-baselines3.readthedocs.io/en/master/guide/vec_envs.html#vectransposeimage) has a nice explanation on what you can do with vectorized environments. Technically, we could do whithout but since we'll be exploring training on multiple environment later anyway, let's go ahead and see how to create one. In PyTorch, convolutional layers expect as inputs an image of the shape (C, H, W) that it, channels first. We could ask VizDoom to directly render the frame buffer in [channel-first](https://github.com/mwydmuch/ViZDoom/blob/master/doc/Types.md#-screenformat) mode. However, as we will see below, it is a better idea to keep the image channel last as this will allow us to make some image preprocessing using OpenCV. Thankfully, stable-baselines offers a [VecTransposeImage](https://stable-baselines3.readthedocs.io/en/master/guide/vec_envs.html#vectransposeimage) wrapper whose sole purpose is to convert from channel last to channel first and vice-versa. As you can see from the function signature, VecTransposeImage requires a VecEnv to work. So let's make one:"
   ]
  },
  {
   "cell_type": "code",
   "execution_count": 6,
   "metadata": {},
   "outputs": [],
   "source": [
    "from stable_baselines3.common.vec_env import DummyVecEnv, VecTransposeImage\n",
    "\n",
    "def create_vec_env(**kwargs) -> VecTransposeImage:\n",
    "    vec_env = DummyVecEnv([lambda: create_env(**kwargs)])\n",
    "    return vec_env"
   ]
  },
  {
   "cell_type": "markdown",
   "metadata": {},
   "source": [
    "So let's unpack what's going on here. First we have create a dummy vectorized environment. It need a list of function that when called, will generate our environment. Since there is only one element in this list we will end up with only one environment. Learning with multiple environment later will be as simple as adding more elements to that list. Then, we pass this dummy vectorized environment to the image transposition wrapper."
   ]
  },
  {
   "cell_type": "markdown",
   "metadata": {},
   "source": [
    "Although VizDoom provides many different screen resolutions. It is useful to define an additional frame processing step in which we rescale the input image by a given factor. This allows us the render the game in a nice resolution while keeping the input size to the model to an acceptable range. This can be easily done with a call to the resize function of OpenCV."
   ]
  },
  {
   "cell_type": "code",
   "execution_count": 7,
   "metadata": {},
   "outputs": [],
   "source": [
    "frame_processor = lambda frame: cv2.resize(frame, None, fx=.5, fy=.5, interpolation=cv2.INTER_AREA)"
   ]
  },
  {
   "cell_type": "markdown",
   "metadata": {},
   "source": [
    "Doing so allow us to take advantage of OpenCV's interpolation to have a smoother image at the same resolution. A side-by-side comparison should make the advantage of rescaling the image ourselves pretty clear. Notice how aliased the image on the left is. This effect get worse and worse as the game tries to render furhter away (smaller) objects. If we can \"see\" better in the second image, so will our model!"
   ]
  },
  {
   "cell_type": "code",
   "execution_count": 8,
   "metadata": {},
   "outputs": [
    {
     "data": {
      "image/png": "[encoded data removed]",
      "text/plain": [
       "<Figure size 1200x500 with 2 Axes>"
      ]
     },
     "metadata": {},
     "output_type": "display_data"
    }
   ],
   "source": [
    "def get_sample_frame(resolution):\n",
    "    game = vizdoom.DoomGame()\n",
    "    game.set_screen_resolution(resolution)\n",
    "    game.set_window_visible(False)\n",
    "    game.init()\n",
    "    game.new_episode()\n",
    "    state = game.get_state()\n",
    "    if state is None:\n",
    "        game.close()\n",
    "        raise ValueError(\"Game state is None. Ensure the game is properly initialized.\")\n",
    "    frame = state.screen_buffer\n",
    "    game.close()\n",
    "    return frame.transpose(1, 2, 0)  # Transpose to (height, width, channels)\n",
    "\n",
    "# // ... existing code ...\n",
    "\n",
    "# Define the frame processor\n",
    "frame_processor = lambda frame: cv2.resize(frame, None, fx=.5, fy=.5, interpolation=cv2.INTER_AREA)\n",
    "# frame_processor = lambda frame: cv2.resize(frame, (320, 240), interpolation=cv2.INTER_AREA)\n",
    "\n",
    "# Plot the frames\n",
    "f, ax = plt.subplots(1, 2, figsize=(12, 5))\n",
    "\n",
    "# Compare 160 by 120 resolution vs. 320 by 240 resolution, scaled by half using OpenCV.\n",
    "ax[0].imshow(get_sample_frame(vizdoom.ScreenResolution.RES_160X120))\n",
    "ax[1].imshow(frame_processor(get_sample_frame(vizdoom.ScreenResolution.RES_320X240)))\n",
    "\n",
    "plt.tight_layout()\n",
    "plt.show()"
   ]
  },
  {
   "cell_type": "code",
   "execution_count": 9,
   "metadata": {},
   "outputs": [],
   "source": [
    "# from basic import utils\n",
    "\n",
    "# f, ax = plt.subplots(1, 2, figsize=(12, 5))\n",
    "\n",
    "# # Compare 160 by 120 resolution vs. 320 by 240 resolution, scaled by half using OpenCV.\n",
    "# ax[0].imshow(utils.get_sample_frame(vizdoom.ScreenResolution.RES_160X120))\n",
    "# ax[1].imshow(frame_processor(utils.get_sample_frame(vizdoom.ScreenResolution.RES_320X240)))\n",
    "\n",
    "# plt.tight_layout()"
   ]
  },
  {
   "cell_type": "markdown",
   "metadata": {},
   "source": [
    "## Creating the agent and the environment\n",
    "\n",
    "We will create two environment, one for training and one for evaluatinng our agent. We will pass to both those environment a couple of parameters that are described below."
   ]
  },
  {
   "cell_type": "code",
   "execution_count": 10,
   "metadata": {},
   "outputs": [
    {
     "name": "stderr",
     "output_type": "stream",
     "text": [
      "/Users/edreis/Documents/github/gamengen-pytorch/venv/lib/python3.9/site-packages/stable_baselines3/common/vec_env/patch_gym.py:49: UserWarning: You provided an OpenAI Gym environment. We strongly recommend transitioning to Gymnasium environments. Stable-Baselines3 is automatically wrapping your environments in a compatibility layer, which could potentially cause issues.\n",
      "  warnings.warn(\n"
     ]
    }
   ],
   "source": [
    "env_args = {\n",
    "    # Number of steps for which the last action is repeated.\n",
    "    'frame_skip': 4,\n",
    "    # Scaling the input image allows us to see the game in good resolution while \n",
    "    'frame_processor': frame_processor\n",
    "}\n",
    "\n",
    "# Create training and evaluation environments.\n",
    "training_env, eval_env = create_vec_env(**env_args), create_vec_env(**env_args)"
   ]
  },
  {
   "cell_type": "markdown",
   "metadata": {},
   "source": [
    "As mentioned before, with stable baselines creating the agent is really straightforward. We can leave most of the parameters to their default values. By calling the PPO constructor we will get an agent with an actor-critic policy with the following structure in five parts:\n",
    "\n",
    "```\n",
    "       features extractor\n",
    "               |\n",
    "          mlp extractor\n",
    "               |\n",
    "            features\n",
    "            /      \\\n",
    "           /        \\\n",
    "   action net      value net\n",
    "```\n",
    "If you want to know more about actor-critic methods, Rudy Gilman has an [awesome article](https://hackernoon.com/intuitive-rl-intro-to-advantage-actor-critic-a2c-4ff545978752) vulgarizing the subject by means of a comic.\n",
    "\n",
    "By default, the feature extractor is the [NatureCNN](https://www.cs.toronto.edu/~vmnih/docs/dqn.pdf), the mlp extractor is empty and the action and value net are two sequential models mapping the features to the action and value output respectively."
   ]
  },
  {
   "cell_type": "code",
   "execution_count": 11,
   "metadata": {},
   "outputs": [
    {
     "data": {
      "text/plain": [
       "ActorCriticCnnPolicy(\n",
       "  (features_extractor): NatureCNN(\n",
       "    (cnn): Sequential(\n",
       "      (0): Conv2d(2, 32, kernel_size=(8, 8), stride=(4, 4))\n",
       "      (1): ReLU()\n",
       "      (2): Conv2d(32, 64, kernel_size=(4, 4), stride=(2, 2))\n",
       "      (3): ReLU()\n",
       "      (4): Conv2d(64, 64, kernel_size=(3, 3), stride=(1, 1))\n",
       "      (5): ReLU()\n",
       "      (6): Flatten(start_dim=1, end_dim=-1)\n",
       "    )\n",
       "    (linear): Sequential(\n",
       "      (0): Linear(in_features=25344, out_features=512, bias=True)\n",
       "      (1): ReLU()\n",
       "    )\n",
       "  )\n",
       "  (pi_features_extractor): NatureCNN(\n",
       "    (cnn): Sequential(\n",
       "      (0): Conv2d(2, 32, kernel_size=(8, 8), stride=(4, 4))\n",
       "      (1): ReLU()\n",
       "      (2): Conv2d(32, 64, kernel_size=(4, 4), stride=(2, 2))\n",
       "      (3): ReLU()\n",
       "      (4): Conv2d(64, 64, kernel_size=(3, 3), stride=(1, 1))\n",
       "      (5): ReLU()\n",
       "      (6): Flatten(start_dim=1, end_dim=-1)\n",
       "    )\n",
       "    (linear): Sequential(\n",
       "      (0): Linear(in_features=25344, out_features=512, bias=True)\n",
       "      (1): ReLU()\n",
       "    )\n",
       "  )\n",
       "  (vf_features_extractor): NatureCNN(\n",
       "    (cnn): Sequential(\n",
       "      (0): Conv2d(2, 32, kernel_size=(8, 8), stride=(4, 4))\n",
       "      (1): ReLU()\n",
       "      (2): Conv2d(32, 64, kernel_size=(4, 4), stride=(2, 2))\n",
       "      (3): ReLU()\n",
       "      (4): Conv2d(64, 64, kernel_size=(3, 3), stride=(1, 1))\n",
       "      (5): ReLU()\n",
       "      (6): Flatten(start_dim=1, end_dim=-1)\n",
       "    )\n",
       "    (linear): Sequential(\n",
       "      (0): Linear(in_features=25344, out_features=512, bias=True)\n",
       "      (1): ReLU()\n",
       "    )\n",
       "  )\n",
       "  (mlp_extractor): MlpExtractor(\n",
       "    (policy_net): Sequential()\n",
       "    (value_net): Sequential()\n",
       "  )\n",
       "  (action_net): Linear(in_features=512, out_features=3, bias=True)\n",
       "  (value_net): Linear(in_features=512, out_features=1, bias=True)\n",
       ")"
      ]
     },
     "execution_count": 11,
     "metadata": {},
     "output_type": "execute_result"
    }
   ],
   "source": [
    "def create_agent(env, **kwargs):\n",
    "    return ppo.PPO(policy=policies.ActorCriticCnnPolicy,\n",
    "                   env=env,\n",
    "                   n_steps=4096,\n",
    "                   batch_size=32,\n",
    "                   learning_rate=1e-4,\n",
    "                   tensorboard_log='logs/tensorboard',\n",
    "                   verbose=0,\n",
    "                   seed=0,\n",
    "                   **kwargs)\n",
    "\n",
    "agent = create_agent(training_env)\n",
    "agent.policy"
   ]
  },
  {
   "cell_type": "markdown",
   "metadata": {},
   "source": [
    "And with that we have everything we need to start the learning task! Within a couple of iterations you should see some progress in the behavior of the agent. Our model stabilizes at a total reward of around 85 which. The maximum score being 100, it means the model takes on average less than four steps to succeed (remember, we are repeated each action four actions due to the `frame_skip` parameter), that's awesome. Give yourself a tap on the back!"
   ]
  },
  {
   "cell_type": "code",
   "execution_count": 12,
   "metadata": {
    "scrolled": true
   },
   "outputs": [
    {
     "name": "stderr",
     "output_type": "stream",
     "text": [
      "/Users/edreis/Documents/github/gamengen-pytorch/venv/lib/python3.9/site-packages/stable_baselines3/common/evaluation.py:67: UserWarning: Evaluation environment is not wrapped with a ``Monitor`` wrapper. This may result in reporting modified episode lengths and rewards, if other wrappers happen to modify these. Consider wrapping environment first with ``Monitor`` wrapper.\n",
      "  warnings.warn(\n"
     ]
    },
    {
     "name": "stdout",
     "output_type": "stream",
     "text": [
      "Eval num_timesteps=5000, episode_reward=-223.00 +/- 154.06\n",
      "Episode length: 60.90 +/- 28.22\n",
      "New best mean reward!\n",
      "Eval num_timesteps=10000, episode_reward=-300.00 +/- 0.00\n",
      "Episode length: 75.00 +/- 0.00\n",
      "Eval num_timesteps=15000, episode_reward=43.50 +/- 114.92\n",
      "Episode length: 12.30 +/- 21.04\n",
      "New best mean reward!\n",
      "Eval num_timesteps=20000, episode_reward=79.80 +/- 8.91\n",
      "Episode length: 5.80 +/- 2.23\n",
      "New best mean reward!\n",
      "Eval num_timesteps=25000, episode_reward=73.70 +/- 13.30\n",
      "Episode length: 6.90 +/- 2.26\n",
      "Eval num_timesteps=30000, episode_reward=77.80 +/- 10.13\n",
      "Episode length: 6.30 +/- 2.53\n",
      "Eval num_timesteps=35000, episode_reward=82.20 +/- 12.24\n",
      "Episode length: 5.20 +/- 3.06\n",
      "New best mean reward!\n",
      "Eval num_timesteps=40000, episode_reward=77.40 +/- 7.63\n",
      "Episode length: 6.40 +/- 1.91\n"
     ]
    }
   ],
   "source": [
    "# Define an evaluation callback that will save the model when a new reward record is reached.\n",
    "evaluation_callback = callbacks.EvalCallback(eval_env,\n",
    "                                             n_eval_episodes=10,\n",
    "                                             eval_freq=5000,\n",
    "                                             log_path='logs/evaluations/basic',\n",
    "                                             best_model_save_path='logs/models/basic')\n",
    "\n",
    "# Play!\n",
    "agent.learn(total_timesteps=40000, tb_log_name='ppo_basic', callback=evaluation_callback)\n",
    "\n",
    "training_env.close()\n",
    "eval_env.close()"
   ]
  },
  {
   "cell_type": "markdown",
   "metadata": {},
   "source": [
    "## Saving the trained agent as a gif\n",
    "\n",
    "Now that we have an agent able to align and shoot enemies, let's make a little souvenir and save it's performance in the form of an animated gif."
   ]
  },
  {
   "cell_type": "code",
   "execution_count": 9,
   "metadata": {},
   "outputs": [],
   "source": [
    "import imageio\n",
    "\n",
    "def make_gif(agent, file_path):\n",
    "    env = create_vec_env(frame_skip=1, frame_processor=frame_processor)\n",
    "    env.venv.envs[0].game.set_seed(0)\n",
    "    \n",
    "    images = []\n",
    "\n",
    "    for i in range(20):\n",
    "        obs = env.reset()\n",
    "\n",
    "        done = False\n",
    "        while not done:\n",
    "            action, _ = agent.predict(obs)\n",
    "            obs, reward, done, _ = env.step(action)\n",
    "            images.append(env.venv.envs[0].game.get_state().screen_buffer)\n",
    "\n",
    "    imageio.mimsave(file_path, images, fps=35)\n",
    "\n",
    "    env.close()"
   ]
  },
  {
   "cell_type": "code",
   "execution_count": 10,
   "metadata": {},
   "outputs": [],
   "source": [
    "# Uncomment this if you want to pick the best model from a previous training session\n",
    "# agent = ppo.PPO.load('logs/models/basic/best_model.zip')\n",
    "make_gif(agent, 'figures/basic_agent.gif')"
   ]
  },
  {
   "cell_type": "markdown",
   "metadata": {},
   "source": [
    "You might notice that the agent has the tendency to shoot too early in the gif. This is because to create a smooth-looking gif we had to create an environment where the frame skip is set to 1. We can fix this very easily by taking our trained agent and learning a few more steps but this time with the final environment."
   ]
  },
  {
   "cell_type": "code",
   "execution_count": 11,
   "metadata": {},
   "outputs": [],
   "source": [
    "env = create_vec_env(frame_skip=1, frame_processor=frame_processor)\n",
    "\n",
    "agent.set_env(env)\n",
    "agent.learn(total_timesteps=20000)\n",
    "\n",
    "env.close()\n",
    "make_gif(agent, 'figures/basic_agent_adjusted.gif')"
   ]
  },
  {
   "cell_type": "markdown",
   "metadata": {},
   "source": [
    "![Comparison frame skip](figures/basic_agent_adjusted.gif)"
   ]
  },
  {
   "cell_type": "markdown",
   "metadata": {},
   "source": [
    "# Part 2 - Improvements\n",
    "\n",
    "## Comparing the effects of the frame skip parameter"
   ]
  },
  {
   "cell_type": "markdown",
   "metadata": {},
   "source": [
    "Reinforcement learning models are notoriously hard to train. Often, a lot of care must be put into finding the correct hyperparameters for the model: learning rate, clip range, epochs per update etc. I found the frame skip setting to be one of the most influencial parameters on the learning performance. My intuitive explanation is that a larger frame skip allow the model to explore more rapidly the environment and thus encounter positive situation more often. Indeed if you try setting it to one for example, you will find that for many episodes where the monster is spawned near the border walls, the agent makes random action that tend to stay within the center of the room. This behaviour means that he is much less likely to shoot the ennemy by luck and there much less likely to receive positive rewards.\n",
    "\n",
    "I conducted a series of experiments with varying frame skip sizes, running 6 consecutive learning and averaged the results. Each error bar denotes the error mean: $ \\frac{\\sigma}{\\sqrt{n}}$.\n",
    "\n",
    "![Comparison frame skip](figures/basic_comparison_frame_skip.png)\n",
    "\n",
    "The second most influencial parameter on the learning performance is the learning rate. In most of the VizDoom examples, I found the maximum possible learning rate to be between 1e-3 and 1-4. Empirically, a learning rate that is too high seems to quickly push the agent in a state where it always outputs the same actions whereas a learning rate that is too low makes the learning procedure needlessly long."
   ]
  },
  {
   "cell_type": "markdown",
   "metadata": {},
   "source": [
    "## Simplifying the model"
   ]
  },
  {
   "cell_type": "markdown",
   "metadata": {},
   "source": [
    "You might have realized that using 160 by 120 pixels input image for this scenario is completely unnecessary. The roof and the floors do not add any meaningful information to our model, only the middle of the frame posesses information. Cutting the meaningless parts means that our model will need significantly less trainable parameters. At the moment, the number of parameters is:  "
   ]
  },
  {
   "cell_type": "code",
   "execution_count": 12,
   "metadata": {},
   "outputs": [],
   "source": [
    "def count_trainable_parameters(model):\n",
    "    print('Number of trainable parameters: {:,}'.format(\n",
    "    sum(p.numel() for p in model.policy.parameters() if p.requires_grad)))"
   ]
  },
  {
   "cell_type": "code",
   "execution_count": 13,
   "metadata": {},
   "outputs": [
    {
     "name": "stdout",
     "output_type": "stream",
     "text": [
      "Number of trainable parameters: 5,845,668\n"
     ]
    }
   ],
   "source": [
    "count_trainable_parameters(agent)"
   ]
  },
  {
   "cell_type": "markdown",
   "metadata": {},
   "source": [
    "If we modify our environment and use instead a cropped version of the input frame, we can reduce the number of parameters by 2.6M."
   ]
  },
  {
   "cell_type": "code",
   "execution_count": 14,
   "metadata": {},
   "outputs": [
    {
     "name": "stdout",
     "output_type": "stream",
     "text": [
      "Number of trainable parameters: 3,224,228\n"
     ]
    }
   ],
   "source": [
    "frame_processor = lambda frame: cv2.resize(frame[40:-41, :], None, fx=0.5, fy=0.5, interpolation=cv2.INTER_AREA)\n",
    "env = create_vec_env(frame_processor=frame_processor); agent = create_agent(env); env.close()\n",
    "count_trainable_parameters(agent)"
   ]
  },
  {
   "cell_type": "markdown",
   "metadata": {},
   "source": [
    "In addition, the PPO class from stable-baselines allows us to directly modify the architecture of the model using keyword arguments. In particular, the default number of features produced at the end of the convolutional layers is 512. This is also unnecessarily large."
   ]
  },
  {
   "cell_type": "code",
   "execution_count": 15,
   "metadata": {},
   "outputs": [
    {
     "name": "stdout",
     "output_type": "stream",
     "text": [
      "Number of trainable parameters: 863,012\n"
     ]
    }
   ],
   "source": [
    "agent = create_agent(env, policy_kwargs={'features_extractor_kwargs': {'features_dim': 128}})\n",
    "count_trainable_parameters(agent)"
   ]
  },
  {
   "cell_type": "markdown",
   "metadata": {},
   "source": [
    "And just like that, we decreased the size of trainable parameters by a factor 7. Let see how this new model compares to the old. Training this simplified model produces results on par with the more complex one while being faster to train."
   ]
  },
  {
   "cell_type": "code",
   "execution_count": 16,
   "metadata": {},
   "outputs": [
    {
     "name": "stdout",
     "output_type": "stream",
     "text": [
      "Eval num_timesteps=5000, episode_reward=-263.90 +/- 111.67\n",
      "Episode length: 68.30 +/- 20.10\n",
      "New best mean reward!\n",
      "Eval num_timesteps=10000, episode_reward=-106.10 +/- 194.05\n",
      "Episode length: 39.40 +/- 35.65\n",
      "New best mean reward!\n",
      "Eval num_timesteps=15000, episode_reward=88.60 +/- 9.16\n",
      "Episode length: 3.60 +/- 2.29\n",
      "New best mean reward!\n",
      "Eval num_timesteps=20000, episode_reward=76.60 +/- 23.57\n",
      "Episode length: 5.40 +/- 4.27\n",
      "Eval num_timesteps=25000, episode_reward=83.80 +/- 11.29\n",
      "Episode length: 4.80 +/- 2.82\n",
      "Eval num_timesteps=30000, episode_reward=88.60 +/- 9.83\n",
      "Episode length: 3.60 +/- 2.46\n",
      "Eval num_timesteps=35000, episode_reward=89.10 +/- 9.02\n",
      "Episode length: 3.30 +/- 2.05\n",
      "New best mean reward!\n",
      "Eval num_timesteps=40000, episode_reward=83.40 +/- 10.35\n",
      "Episode length: 4.90 +/- 2.59\n"
     ]
    }
   ],
   "source": [
    "env_args = {'frame_skip': 4, 'frame_processor': frame_processor}\n",
    "\n",
    "training_env, eval_env = create_vec_env(**env_args), create_vec_env(**env_args)\n",
    "agent.set_env(training_env)\n",
    "\n",
    "evaluation_callback = callbacks.EvalCallback(eval_env,\n",
    "                                             n_eval_episodes=10,\n",
    "                                             eval_freq=5000,\n",
    "                                             log_path='logs/evaluations/basic',\n",
    "                                             best_model_save_path='logs/models/basic')\n",
    "\n",
    "agent.learn(total_timesteps=40000, tb_log_name='ppo_basic_simplified', callback=evaluation_callback)\n",
    "\n",
    "training_env.close()\n",
    "eval_env.close()"
   ]
  },
  {
   "cell_type": "markdown",
   "metadata": {},
   "source": [
    "# Conclusion\n",
    "\n",
    "In this notebook we've seen how to setup and adapt VizDoom to use it as reinforcement learning environment with the powerful stable-baselines library. In the next chapter we will explore a more complex scenario and dwelve into the model in more details. Stay tuned!"
   ]
  }
 ],
 "metadata": {
  "kernelspec": {
   "display_name": "Python 3",
   "language": "python",
   "name": "python3"
  },
  "language_info": {
   "codemirror_mode": {
    "name": "ipython",
    "version": 3
   },
   "file_extension": ".py",
   "mimetype": "text/x-python",
   "name": "python",
   "nbconvert_exporter": "python",
   "pygments_lexer": "ipython3",
   "version": "3.9.6"
  }
 },
 "nbformat": 4,
 "nbformat_minor": 4
}
